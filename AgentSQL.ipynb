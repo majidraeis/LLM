{
  "nbformat": 4,
  "nbformat_minor": 0,
  "metadata": {
    "colab": {
      "provenance": [],
      "authorship_tag": "ABX9TyMlvHA4kl2Nrm+Unfh0dMSn"
    },
    "kernelspec": {
      "name": "python3",
      "display_name": "Python 3"
    },
    "language_info": {
      "name": "python"
    }
  },
  "cells": [
    {
      "cell_type": "markdown",
      "source": [
        "# LangChain Agent and SQL query:\n",
        "\n",
        "In this notebook, we see how to create a LangChain agent to execute SQL queries on an SQLite database using Python. This guide covers setting up an SQLite database with SQLAlchemy, populating it with sample data, and creating a LangChain agent to query the database."
      ],
      "metadata": {
        "id": "fSsA8PLVvVLc"
      }
    },
    {
      "cell_type": "markdown",
      "source": [
        "### Environment Setup:\n",
        "\n",
        "Install necessary packages (langchain, sqlalchemy, ...)"
      ],
      "metadata": {
        "id": "oxjgWQOAvqa1"
      }
    },
    {
      "cell_type": "code",
      "execution_count": null,
      "metadata": {
        "id": "IH9kQgRHb_74",
        "colab": {
          "base_uri": "https://localhost:8080/"
        },
        "outputId": "72124ead-c63c-4b61-9e3e-bae4e22e877a"
      },
      "outputs": [
        {
          "output_type": "stream",
          "name": "stdout",
          "text": [
            "\u001b[?25l     \u001b[90m━━━━━━━━━━━━━━━━━━━━━━━━━━━━━━━━━━━━━━━━\u001b[0m \u001b[32m0.0/3.1 MB\u001b[0m \u001b[31m?\u001b[0m eta \u001b[36m-:--:--\u001b[0m\r\u001b[2K     \u001b[91m━\u001b[0m\u001b[91m╸\u001b[0m\u001b[90m━━━━━━━━━━━━━━━━━━━━━━━━━━━━━━━━━━━━━━\u001b[0m \u001b[32m0.1/3.1 MB\u001b[0m \u001b[31m4.5 MB/s\u001b[0m eta \u001b[36m0:00:01\u001b[0m\r\u001b[2K     \u001b[91m━━━━━━━━━━━━━━━━━━\u001b[0m\u001b[91m╸\u001b[0m\u001b[90m━━━━━━━━━━━━━━━━━━━━━\u001b[0m \u001b[32m1.4/3.1 MB\u001b[0m \u001b[31m20.5 MB/s\u001b[0m eta \u001b[36m0:00:01\u001b[0m\r\u001b[2K     \u001b[91m━━━━━━━━━━━━━━━━━━━━━━━━━━━━━━━━━━━━━━━\u001b[0m\u001b[91m╸\u001b[0m \u001b[32m3.1/3.1 MB\u001b[0m \u001b[31m31.3 MB/s\u001b[0m eta \u001b[36m0:00:01\u001b[0m\r\u001b[2K     \u001b[90m━━━━━━━━━━━━━━━━━━━━━━━━━━━━━━━━━━━━━━━━\u001b[0m \u001b[32m3.1/3.1 MB\u001b[0m \u001b[31m20.6 MB/s\u001b[0m eta \u001b[36m0:00:00\u001b[0m\n",
            "\u001b[?25h\u001b[31mERROR: Could not find a version that satisfies the requirement sqlite (from versions: none)\u001b[0m\u001b[31m\n",
            "\u001b[0m\u001b[31mERROR: No matching distribution found for sqlite\u001b[0m\u001b[31m\n",
            "\u001b[0m"
          ]
        }
      ],
      "source": [
        "!pip install --upgrade --quiet langchain-community langgraph langchain-anthropic sqlalchemy sqlite tavily-python langchain-google-genai google-search-results pillow"
      ]
    },
    {
      "cell_type": "markdown",
      "source": [
        "Setting an API keys:"
      ],
      "metadata": {
        "id": "4m0v5zUw9Yeb"
      }
    },
    {
      "cell_type": "code",
      "source": [
        "from google.colab import userdata\n",
        "import getpass\n",
        "import os\n",
        "\n",
        "os.environ[\"LANGCHAIN_TRACING_V2\"] = \"true\"\n",
        "os.environ[\"LANGCHAIN_API_KEY\"] = userdata.get('LANGCHAIN_API_KEY')\n",
        "os.environ[\"TAVILY_API_KEY\"] = userdata.get('TAVILY_API_KEY')\n",
        "os.environ[\"GOOGLE_API_KEY\"] = userdata.get('GOOGLE_API_KEY')\n",
        "os.environ[\"SERPAPI_API_KEY\"] = userdata.get('SERPAPI_API_KEY')"
      ],
      "metadata": {
        "id": "hs5V678acJNw"
      },
      "execution_count": null,
      "outputs": []
    },
    {
      "cell_type": "markdown",
      "source": [
        "###Initialize the Model:\n",
        "\n"
      ],
      "metadata": {
        "id": "tQcoybeq_h1X"
      }
    },
    {
      "cell_type": "code",
      "source": [
        "from langchain_google_genai import ChatGoogleGenerativeAI\n",
        "from langchain_core.messages import HumanMessage, SystemMessage\n",
        "\n",
        "\n",
        "model = ChatGoogleGenerativeAI(model=\"gemini-pro\")\n",
        "\n",
        "messages = [\n",
        "    HumanMessage(content=\"The capital of Irland\"),\n",
        "]\n",
        "\n",
        "response = model.invoke(messages)\n",
        "response"
      ],
      "metadata": {
        "colab": {
          "base_uri": "https://localhost:8080/"
        },
        "id": "wxct01LQ6jt1",
        "outputId": "b0125a14-19d4-48ee-f0ac-2302f3f3aa68"
      },
      "execution_count": null,
      "outputs": [
        {
          "output_type": "execute_result",
          "data": {
            "text/plain": [
              "AIMessage(content='Dublin', response_metadata={'prompt_feedback': {'block_reason': 0, 'safety_ratings': []}, 'finish_reason': 'STOP', 'safety_ratings': [{'category': 'HARM_CATEGORY_SEXUALLY_EXPLICIT', 'probability': 'NEGLIGIBLE', 'blocked': False}, {'category': 'HARM_CATEGORY_HATE_SPEECH', 'probability': 'NEGLIGIBLE', 'blocked': False}, {'category': 'HARM_CATEGORY_HARASSMENT', 'probability': 'NEGLIGIBLE', 'blocked': False}, {'category': 'HARM_CATEGORY_DANGEROUS_CONTENT', 'probability': 'NEGLIGIBLE', 'blocked': False}]}, id='run-0573dcbf-75dd-41ae-9099-17aef9994eb4-0', usage_metadata={'input_tokens': 5, 'output_tokens': 1, 'total_tokens': 6})"
            ]
          },
          "metadata": {},
          "execution_count": 5
        }
      ]
    },
    {
      "cell_type": "markdown",
      "source": [
        "Note that the response from the model is an AIMessage, which includes a string response along with additional metadata. Often, we might only need the string response. To extract just the string, we can use a simple output parser."
      ],
      "metadata": {
        "id": "nQh8_KJzAuTy"
      }
    },
    {
      "cell_type": "code",
      "source": [
        "from langchain_core.output_parsers import StrOutputParser\n",
        "\n",
        "parser = StrOutputParser()\n",
        "\n",
        "parser.invoke(response)"
      ],
      "metadata": {
        "colab": {
          "base_uri": "https://localhost:8080/",
          "height": 35
        },
        "id": "ZI7LQxDt4Eok",
        "outputId": "8cb1c80c-29e7-4344-9080-6bf1cac6378a"
      },
      "execution_count": null,
      "outputs": [
        {
          "output_type": "execute_result",
          "data": {
            "text/plain": [
              "'Dublin'"
            ],
            "application/vnd.google.colaboratory.intrinsic+json": {
              "type": "string"
            }
          },
          "metadata": {},
          "execution_count": 6
        }
      ]
    },
    {
      "cell_type": "code",
      "source": [
        "chain = model | parser\n",
        "chain.invoke(\"The capital of Irland\")"
      ],
      "metadata": {
        "colab": {
          "base_uri": "https://localhost:8080/",
          "height": 35
        },
        "id": "1JAm0GtW4SZ2",
        "outputId": "146949ec-2a2a-4d0c-a985-a907c66194fb"
      },
      "execution_count": null,
      "outputs": [
        {
          "output_type": "execute_result",
          "data": {
            "text/plain": [
              "'Dublin'"
            ],
            "application/vnd.google.colaboratory.intrinsic+json": {
              "type": "string"
            }
          },
          "metadata": {},
          "execution_count": 7
        }
      ]
    },
    {
      "cell_type": "markdown",
      "source": [
        "###Define Tools:\n",
        "\n",
        "LangChain offers a variety of tools that extend the functionality of language models, allowing them to interact with external APIs. Here we use Tavily and SerpAPI tools.\n",
        "\n"
      ],
      "metadata": {
        "id": "gf8hOdjqBGUW"
      }
    },
    {
      "cell_type": "code",
      "source": [
        "# ====== Tavily =======\n",
        "from langchain_community.tools.tavily_search import TavilySearchResults\n",
        "\n",
        "search = TavilySearchResults(max_results=2)\n",
        "search_results = search.invoke(\"what is the weather in SF\")\n",
        "print(search_results)"
      ],
      "metadata": {
        "colab": {
          "base_uri": "https://localhost:8080/"
        },
        "id": "cfbFvhGcBKjr",
        "outputId": "6695b090-f15c-4e7c-e21b-6493dc88e2c0"
      },
      "execution_count": 154,
      "outputs": [
        {
          "output_type": "stream",
          "name": "stdout",
          "text": [
            "[{'url': 'https://world-weather.info/forecast/usa/san_francisco/june-2024/', 'content': 'Extended weather forecast in San Francisco. Hourly Week 10 days 14 days 30 days Year. Detailed ⚡ San Francisco Weather Forecast for June 2024 - day/night 🌡️ temperatures, precipitations - World-Weather.info.'}, {'url': 'https://www.weatherapi.com/', 'content': \"{'location': {'name': 'San Francisco', 'region': 'California', 'country': 'United States of America', 'lat': 37.78, 'lon': -122.42, 'tz_id': 'America/Los_Angeles', 'localtime_epoch': 1719166882, 'localtime': '2024-06-23 11:21'}, 'current': {'last_updated_epoch': 1719166500, 'last_updated': '2024-06-23 11:15', 'temp_c': 19.4, 'temp_f': 66.9, 'is_day': 1, 'condition': {'text': 'Partly cloudy', 'icon': '//cdn.weatherapi.com/weather/64x64/day/116.png', 'code': 1003}, 'wind_mph': 10.5, 'wind_kph': 16.9, 'wind_degree': 300, 'wind_dir': 'WNW', 'pressure_mb': 1013.0, 'pressure_in': 29.91, 'precip_mm': 0.01, 'precip_in': 0.0, 'humidity': 66, 'cloud': 25, 'feelslike_c': 19.4, 'feelslike_f': 66.9, 'windchill_c': 16.3, 'windchill_f': 61.3, 'heatindex_c': 16.3, 'heatindex_f': 61.4, 'dewpoint_c': 10.4, 'dewpoint_f': 50.6, 'vis_km': 16.0, 'vis_miles': 9.0, 'uv': 4.0, 'gust_mph': 15.0, 'gust_kph': 24.1}}\"}]\n"
          ]
        }
      ]
    },
    {
      "cell_type": "code",
      "source": [
        "# ====== Serp API =======\n",
        "from langchain_community.utilities import SerpAPIWrapper\n",
        "\n",
        "search = SerpAPIWrapper()\n",
        "search.run(\"weather in SF\")"
      ],
      "metadata": {
        "id": "Qts8H6VoBPdP",
        "colab": {
          "base_uri": "https://localhost:8080/",
          "height": 53
        },
        "outputId": "db4c1ad5-27bf-4d7a-99d2-ef5c657c3899"
      },
      "execution_count": 162,
      "outputs": [
        {
          "output_type": "execute_result",
          "data": {
            "text/plain": [
              "\"{'type': 'weather_result', 'temperature': '64', 'unit': 'Fahrenheit', 'precipitation': '2%', 'humidity': '68%', 'wind': '11 mph', 'location': 'San Francisco, CA', 'date': 'Sunday 11:00 AM', 'weather': 'Partly cloudy'}\""
            ],
            "application/vnd.google.colaboratory.intrinsic+json": {
              "type": "string"
            }
          },
          "metadata": {},
          "execution_count": 162
        }
      ]
    },
    {
      "cell_type": "markdown",
      "source": [
        "### Using tools in Agents"
      ],
      "metadata": {
        "id": "jasMts_0XAS_"
      }
    },
    {
      "cell_type": "code",
      "source": [
        "# ====== Tavily =======\n",
        "# from langchain_community.tools.tavily_search import TavilySearchResults\n",
        "\n",
        "# search = TavilySearchResults(max_results=2)\n",
        "# tools = [search]\n",
        "\n",
        "# ====== Serp API =======\n",
        "from langchain.agents import load_tools\n",
        "\n",
        "tools = load_tools([\"serpapi\"])"
      ],
      "metadata": {
        "id": "c-TOaScfWUOK"
      },
      "execution_count": 165,
      "outputs": []
    },
    {
      "cell_type": "code",
      "source": [
        "model_with_tools = model.bind_tools(tools)"
      ],
      "metadata": {
        "id": "kPPVBxMajOC0"
      },
      "execution_count": 166,
      "outputs": []
    },
    {
      "cell_type": "code",
      "source": [
        "response = model_with_tools.invoke([HumanMessage(content=\"Hi!\")])\n",
        "\n",
        "print(f\"ContentString: {response.content}\")\n",
        "print(f\"ToolCalls: {response.tool_calls}\")"
      ],
      "metadata": {
        "colab": {
          "base_uri": "https://localhost:8080/"
        },
        "id": "6KHgXnNmjcbg",
        "outputId": "3602cefe-aaa2-49b0-8000-e489198bf29c"
      },
      "execution_count": 167,
      "outputs": [
        {
          "output_type": "stream",
          "name": "stdout",
          "text": [
            "ContentString: Hi there! How can I help you today?\n",
            "ToolCalls: []\n"
          ]
        }
      ]
    },
    {
      "cell_type": "code",
      "source": [
        "response = model_with_tools.invoke([HumanMessage(content=\"When was the last match of maple leafs?\")])\n",
        "\n",
        "print(f\"ContentString: {response.content}\")\n",
        "print(f\"ToolCalls: {response.tool_calls}\")"
      ],
      "metadata": {
        "colab": {
          "base_uri": "https://localhost:8080/"
        },
        "id": "fLSpdos1jkB8",
        "outputId": "4a4aa3fd-74cc-4f19-bed3-e2d920250025"
      },
      "execution_count": 168,
      "outputs": [
        {
          "output_type": "stream",
          "name": "stdout",
          "text": [
            "ContentString: \n",
            "ToolCalls: [{'name': 'Search', 'args': {'__arg1': 'When was the last match of maple leafs?'}, 'id': 'a085d179-c641-4e29-a5a1-32ee2f5a6174'}]\n"
          ]
        }
      ]
    },
    {
      "cell_type": "code",
      "source": [
        "from langgraph.prebuilt import create_react_agent\n",
        "\n",
        "agent_executor = create_react_agent(model, tools)"
      ],
      "metadata": {
        "id": "7lpZ9j7j-C-v"
      },
      "execution_count": 169,
      "outputs": []
    },
    {
      "cell_type": "code",
      "source": [
        "response = agent_executor.invoke({\"messages\": [HumanMessage(content=\"hi!\")]})\n",
        "\n",
        "response[\"messages\"]"
      ],
      "metadata": {
        "colab": {
          "base_uri": "https://localhost:8080/"
        },
        "id": "haAvQBjj-RBr",
        "outputId": "6b50eaab-2572-43f7-d6cf-8ced6d9446a8"
      },
      "execution_count": 170,
      "outputs": [
        {
          "output_type": "execute_result",
          "data": {
            "text/plain": [
              "[HumanMessage(content='hi!', id='d6d04094-f879-435a-8f6e-00b6ca6dc7bc'),\n",
              " AIMessage(content='Hello! How can I help you today?', response_metadata={'prompt_feedback': {'block_reason': 0, 'safety_ratings': []}, 'finish_reason': 'STOP', 'safety_ratings': [{'category': 'HARM_CATEGORY_SEXUALLY_EXPLICIT', 'probability': 'NEGLIGIBLE', 'blocked': False}, {'category': 'HARM_CATEGORY_HATE_SPEECH', 'probability': 'NEGLIGIBLE', 'blocked': False}, {'category': 'HARM_CATEGORY_HARASSMENT', 'probability': 'NEGLIGIBLE', 'blocked': False}, {'category': 'HARM_CATEGORY_DANGEROUS_CONTENT', 'probability': 'NEGLIGIBLE', 'blocked': False}]}, id='run-3c494372-0dba-4533-9fc4-c04d60f5e4b7-0', usage_metadata={'input_tokens': 60, 'output_tokens': 9, 'total_tokens': 69})]"
            ]
          },
          "metadata": {},
          "execution_count": 170
        }
      ]
    },
    {
      "cell_type": "code",
      "source": [
        "response = agent_executor.invoke(\n",
        "    {\"messages\": [HumanMessage(content=\"weather in SF\")]}\n",
        ")\n",
        "response[\"messages\"]"
      ],
      "metadata": {
        "colab": {
          "base_uri": "https://localhost:8080/"
        },
        "id": "WTTydpls-Wel",
        "outputId": "86c9f46e-0fac-45db-ea98-0bcb191c6079"
      },
      "execution_count": 171,
      "outputs": [
        {
          "output_type": "execute_result",
          "data": {
            "text/plain": [
              "[HumanMessage(content='weather in SF', id='991c58b9-46a4-45ed-8076-18193af7346c'),\n",
              " AIMessage(content='', additional_kwargs={'function_call': {'name': 'Search', 'arguments': '{\"__arg1\": \"weather in SF\"}'}}, response_metadata={'prompt_feedback': {'block_reason': 0, 'safety_ratings': []}, 'finish_reason': 'STOP', 'safety_ratings': [{'category': 'HARM_CATEGORY_SEXUALLY_EXPLICIT', 'probability': 'NEGLIGIBLE', 'blocked': False}, {'category': 'HARM_CATEGORY_HATE_SPEECH', 'probability': 'NEGLIGIBLE', 'blocked': False}, {'category': 'HARM_CATEGORY_HARASSMENT', 'probability': 'NEGLIGIBLE', 'blocked': False}, {'category': 'HARM_CATEGORY_DANGEROUS_CONTENT', 'probability': 'NEGLIGIBLE', 'blocked': False}]}, id='run-c026a2d4-9462-442a-a54d-734862362f34-0', tool_calls=[{'name': 'Search', 'args': {'__arg1': 'weather in SF'}, 'id': '85d77a67-d073-4824-8dbc-a68c8777f91e'}], usage_metadata={'input_tokens': 61, 'output_tokens': 16, 'total_tokens': 77}),\n",
              " ToolMessage(content=\"{'type': 'weather_result', 'temperature': '64', 'unit': 'Fahrenheit', 'precipitation': '2%', 'humidity': '68%', 'wind': '11 mph', 'location': 'San Francisco, CA', 'date': 'Sunday 11:00 AM', 'weather': 'Partly cloudy'}\", name='Search', id='d5ba5cc8-f207-4d37-93d8-2accd17ce1f9', tool_call_id='85d77a67-d073-4824-8dbc-a68c8777f91e'),\n",
              " AIMessage(content='The weather in SF is partly cloudy with a temperature of 64 degrees Fahrenheit. There is a 2% chance of precipitation, 68% humidity, and 11 mph wind.', response_metadata={'prompt_feedback': {'block_reason': 0, 'safety_ratings': []}, 'finish_reason': 'STOP', 'safety_ratings': [{'category': 'HARM_CATEGORY_SEXUALLY_EXPLICIT', 'probability': 'NEGLIGIBLE', 'blocked': False}, {'category': 'HARM_CATEGORY_HATE_SPEECH', 'probability': 'NEGLIGIBLE', 'blocked': False}, {'category': 'HARM_CATEGORY_HARASSMENT', 'probability': 'NEGLIGIBLE', 'blocked': False}, {'category': 'HARM_CATEGORY_DANGEROUS_CONTENT', 'probability': 'NEGLIGIBLE', 'blocked': False}]}, id='run-ed1c646f-1950-4bf7-8242-267d988056b3-0', usage_metadata={'input_tokens': 183, 'output_tokens': 40, 'total_tokens': 223})]"
            ]
          },
          "metadata": {},
          "execution_count": 171
        }
      ]
    },
    {
      "cell_type": "code",
      "source": [
        "for chunk in agent_executor.stream(\n",
        "    {\"messages\": [HumanMessage(content=\"weather in sf?\")]}\n",
        "):\n",
        "    print(chunk)\n",
        "    print(\"----\")"
      ],
      "metadata": {
        "colab": {
          "base_uri": "https://localhost:8080/"
        },
        "id": "8Mbfn8GYEfu_",
        "outputId": "178c8c90-c005-4311-dede-d5ffe0feb85d"
      },
      "execution_count": 172,
      "outputs": [
        {
          "output_type": "stream",
          "name": "stdout",
          "text": [
            "{'agent': {'messages': [AIMessage(content='', additional_kwargs={'function_call': {'name': 'Search', 'arguments': '{\"__arg1\": \"weather in sf\"}'}}, response_metadata={'prompt_feedback': {'block_reason': 0, 'safety_ratings': []}, 'finish_reason': 'STOP', 'safety_ratings': [{'category': 'HARM_CATEGORY_SEXUALLY_EXPLICIT', 'probability': 'NEGLIGIBLE', 'blocked': False}, {'category': 'HARM_CATEGORY_DANGEROUS_CONTENT', 'probability': 'NEGLIGIBLE', 'blocked': False}, {'category': 'HARM_CATEGORY_HATE_SPEECH', 'probability': 'NEGLIGIBLE', 'blocked': False}, {'category': 'HARM_CATEGORY_HARASSMENT', 'probability': 'NEGLIGIBLE', 'blocked': False}]}, id='run-0c96f9e3-c743-4f7a-ba93-0cf1bc3a7149-0', tool_calls=[{'name': 'Search', 'args': {'__arg1': 'weather in sf'}, 'id': '001e215f-2891-40cb-be64-10bb1e43c52f'}], usage_metadata={'input_tokens': 62, 'output_tokens': 16, 'total_tokens': 78})]}}\n",
            "----\n",
            "{'tools': {'messages': [ToolMessage(content=\"{'type': 'weather_result', 'temperature': '60', 'unit': 'Fahrenheit', 'precipitation': '0%', 'humidity': '71%', 'wind': '11 mph', 'location': 'San Francisco, CA', 'date': 'Sunday 11:00 AM', 'weather': 'Partly cloudy'}\", name='Search', tool_call_id='001e215f-2891-40cb-be64-10bb1e43c52f')]}}\n",
            "----\n",
            "{'agent': {'messages': [AIMessage(content='It is partly cloudy in San Francisco, CA. The temperature is 60 degrees Fahrenheit, with 0% precipitation, 71% humidity, and 11 mph wind.', response_metadata={'prompt_feedback': {'block_reason': 0, 'safety_ratings': []}, 'finish_reason': 'STOP', 'safety_ratings': [{'category': 'HARM_CATEGORY_SEXUALLY_EXPLICIT', 'probability': 'NEGLIGIBLE', 'blocked': False}, {'category': 'HARM_CATEGORY_HATE_SPEECH', 'probability': 'NEGLIGIBLE', 'blocked': False}, {'category': 'HARM_CATEGORY_HARASSMENT', 'probability': 'NEGLIGIBLE', 'blocked': False}, {'category': 'HARM_CATEGORY_DANGEROUS_CONTENT', 'probability': 'NEGLIGIBLE', 'blocked': False}]}, id='run-6f7df92a-213d-4409-a940-896cc3d1307d-0', usage_metadata={'input_tokens': 184, 'output_tokens': 38, 'total_tokens': 222})]}}\n",
            "----\n"
          ]
        }
      ]
    },
    {
      "cell_type": "code",
      "source": [
        "response[\"messages\"][-1].content"
      ],
      "metadata": {
        "colab": {
          "base_uri": "https://localhost:8080/",
          "height": 35
        },
        "id": "CPH9cE6c3Dmp",
        "outputId": "c0b6ac99-21bb-4b3a-ce8d-04b1bf62546c"
      },
      "execution_count": 173,
      "outputs": [
        {
          "output_type": "execute_result",
          "data": {
            "text/plain": [
              "'The weather in SF is partly cloudy with a temperature of 64 degrees Fahrenheit. There is a 2% chance of precipitation, 68% humidity, and 11 mph wind.'"
            ],
            "application/vnd.google.colaboratory.intrinsic+json": {
              "type": "string"
            }
          },
          "metadata": {},
          "execution_count": 173
        }
      ]
    },
    {
      "cell_type": "markdown",
      "source": [
        "### Adding Memory"
      ],
      "metadata": {
        "id": "2_FhMtbhvUTC"
      }
    },
    {
      "cell_type": "code",
      "source": [
        "from langgraph.checkpoint.sqlite import SqliteSaver\n",
        "\n",
        "memory = SqliteSaver.from_conn_string(\":memory:\")\n",
        "agent_executor = create_react_agent(model, tools, checkpointer=memory)\n",
        "config = {\"configurable\": {\"thread_id\": \"abc123\"}}"
      ],
      "metadata": {
        "id": "PKq9GFldD-Jj"
      },
      "execution_count": null,
      "outputs": []
    },
    {
      "cell_type": "code",
      "source": [
        "response = agent_executor.invoke(\n",
        "    {\"messages\": [HumanMessage(content=\"Hi, My name is Majid!\")]}, config)\n",
        "response['messages'][-1].content"
      ],
      "metadata": {
        "colab": {
          "base_uri": "https://localhost:8080/",
          "height": 35
        },
        "id": "ySDaRamvFHYy",
        "outputId": "d27efe83-3fcd-48c0-ddf1-7517f8e421fa"
      },
      "execution_count": null,
      "outputs": [
        {
          "output_type": "execute_result",
          "data": {
            "text/plain": [
              "\"It's nice to meet you, Majid. Is there anything I can help you with today?\""
            ],
            "application/vnd.google.colaboratory.intrinsic+json": {
              "type": "string"
            }
          },
          "metadata": {},
          "execution_count": 174
        }
      ]
    },
    {
      "cell_type": "code",
      "source": [
        "response = agent_executor.invoke(\n",
        "    {\"messages\": [HumanMessage(content=\"what's my name?\")]}, config)\n",
        "response['messages'][-1].content"
      ],
      "metadata": {
        "colab": {
          "base_uri": "https://localhost:8080/",
          "height": 35
        },
        "id": "9ki0fk-LFIiU",
        "outputId": "438eede2-05c9-49a0-ade2-c6246edcad37"
      },
      "execution_count": null,
      "outputs": [
        {
          "output_type": "execute_result",
          "data": {
            "text/plain": [
              "'You are Majid.'"
            ],
            "application/vnd.google.colaboratory.intrinsic+json": {
              "type": "string"
            }
          },
          "metadata": {},
          "execution_count": 175
        }
      ]
    },
    {
      "cell_type": "markdown",
      "source": [
        "###Create DataBase"
      ],
      "metadata": {
        "id": "oSFm3o3sY0ws"
      }
    },
    {
      "cell_type": "code",
      "source": [
        "from sqlalchemy import MetaData\n",
        "\n",
        "metadata_obj = MetaData()"
      ],
      "metadata": {
        "id": "DNLFohVzvbsh"
      },
      "execution_count": 174,
      "outputs": []
    },
    {
      "cell_type": "code",
      "source": [
        "from sqlalchemy import Column, Integer, String, Table, Date, Float\n",
        "\n",
        "stocks = Table(\n",
        "    \"stocks\",\n",
        "    metadata_obj,\n",
        "    Column(\"obs_id\", Integer, primary_key=True),\n",
        "    Column(\"stock_ticker\", String(4), nullable=False),\n",
        "    Column(\"price\", Float, nullable=False),\n",
        "    Column(\"date\", Date, nullable=False),\n",
        ")"
      ],
      "metadata": {
        "id": "vM52DsnJZEGe"
      },
      "execution_count": 175,
      "outputs": []
    },
    {
      "cell_type": "code",
      "source": [
        "from sqlalchemy import create_engine\n",
        "\n",
        "engine = create_engine(\"sqlite:///:memory:\")\n",
        "metadata_obj.create_all(engine)"
      ],
      "metadata": {
        "id": "ulsobr65ZHb5"
      },
      "execution_count": 176,
      "outputs": []
    },
    {
      "cell_type": "code",
      "source": [
        "from datetime import datetime\n",
        "\n",
        "observations = [\n",
        "    [1, 'ABC', 200, datetime(2023, 1, 1)],\n",
        "    [2, 'ABC', 208, datetime(2023, 1, 2)],\n",
        "    [3, 'ABC', 232, datetime(2023, 1, 3)],\n",
        "    [4, 'ABC', 225, datetime(2023, 1, 4)],\n",
        "    [5, 'ABC', 226, datetime(2023, 1, 5)],\n",
        "    [6, 'XYZ', 810, datetime(2023, 1, 1)],\n",
        "    [7, 'XYZ', 803, datetime(2023, 1, 2)],\n",
        "    [8, 'XYZ', 798, datetime(2023, 1, 3)],\n",
        "    [9, 'XYZ', 795, datetime(2023, 1, 4)],\n",
        "    [10, 'XYZ', 791, datetime(2023, 1, 5)],\n",
        "]"
      ],
      "metadata": {
        "id": "G29j4ZVnZJ0i"
      },
      "execution_count": 177,
      "outputs": []
    },
    {
      "cell_type": "code",
      "source": [
        "from sqlalchemy import insert\n",
        "\n",
        "def insert_obs(obs):\n",
        "    stmt = insert(stocks).values(\n",
        "    obs_id=obs[0],\n",
        "    stock_ticker=obs[1],\n",
        "    price=obs[2],\n",
        "    date=obs[3]\n",
        "    )\n",
        "\n",
        "    with engine.begin() as conn:\n",
        "        conn.execute(stmt)"
      ],
      "metadata": {
        "id": "FX8RVLIWZSUJ"
      },
      "execution_count": 178,
      "outputs": []
    },
    {
      "cell_type": "code",
      "source": [
        "for obs in observations:\n",
        "    insert_obs(obs)"
      ],
      "metadata": {
        "id": "qvleWBkSZZoQ"
      },
      "execution_count": 179,
      "outputs": []
    },
    {
      "cell_type": "code",
      "source": [
        "from sqlalchemy import text\n",
        "with engine.connect() as connection:\n",
        "    # Define the raw SQL query\n",
        "    sql_query = text(\"SELECT * FROM stocks WHERE price > :price_threshold\")\n",
        "\n",
        "    # Execute the query with a parameter\n",
        "    result = connection.execute(sql_query, {\"price_threshold\": 300})\n",
        "\n",
        "    for row in result:\n",
        "        print(row)"
      ],
      "metadata": {
        "colab": {
          "base_uri": "https://localhost:8080/"
        },
        "id": "JtNBeemdomd6",
        "outputId": "7dfe561c-fc10-44fb-f01b-6ef974777b8e"
      },
      "execution_count": 181,
      "outputs": [
        {
          "output_type": "stream",
          "name": "stdout",
          "text": [
            "(6, 'XYZ', 810.0, '2023-01-01')\n",
            "(7, 'XYZ', 803.0, '2023-01-02')\n",
            "(8, 'XYZ', 798.0, '2023-01-03')\n",
            "(9, 'XYZ', 795.0, '2023-01-04')\n",
            "(10, 'XYZ', 791.0, '2023-01-05')\n"
          ]
        }
      ]
    },
    {
      "cell_type": "code",
      "source": [
        "from langchain.utilities import SQLDatabase\n",
        "from langchain.agents import create_sql_agent\n",
        "from langchain.agents.agent_toolkits import SQLDatabaseToolkit\n",
        "from langchain.agents.agent_types import AgentType\n",
        "\n",
        "db = SQLDatabase(engine)\n",
        "\n",
        "agent_executor = create_sql_agent(\n",
        "    llm=llm,\n",
        "    toolkit=SQLDatabaseToolkit(db=db, llm=llm),\n",
        "    verbose=True,\n",
        "    agent_type=AgentType.ZERO_SHOT_REACT_DESCRIPTION,\n",
        "    max_iterations=8\n",
        ")"
      ],
      "metadata": {
        "id": "sLfLuJtHp0dV"
      },
      "execution_count": 183,
      "outputs": []
    },
    {
      "cell_type": "code",
      "source": [
        "agent_executor.invoke(\"list of entries with price more than 300\")"
      ],
      "metadata": {
        "colab": {
          "base_uri": "https://localhost:8080/"
        },
        "id": "xbbQdwpoZ-AG",
        "outputId": "b805d4f8-5962-4372-d7fb-41cefe435435"
      },
      "execution_count": 184,
      "outputs": [
        {
          "output_type": "stream",
          "name": "stdout",
          "text": [
            "\n",
            "\n",
            "\u001b[1m> Entering new SQL Agent Executor chain...\u001b[0m\n",
            "\u001b[32;1m\u001b[1;3mAction: sql_db_list_tables\n",
            "Action Input: \u001b[0m\u001b[38;5;200m\u001b[1;3mstocks\u001b[0m\u001b[32;1m\u001b[1;3mAction: sql_db_query_checker\n",
            "Action Input: SELECT * FROM stocks WHERE price > 300;\u001b[0m\u001b[36;1m\u001b[1;3mSELECT * FROM stocks WHERE price > 300;\u001b[0m\u001b[32;1m\u001b[1;3mAction: sql_db_query\n",
            "Action Input: SELECT * FROM stocks WHERE price > 300;\u001b[0m\u001b[36;1m\u001b[1;3m[(6, 'XYZ', 810.0, '2023-01-01'), (7, 'XYZ', 803.0, '2023-01-02'), (8, 'XYZ', 798.0, '2023-01-03'), (9, 'XYZ', 795.0, '2023-01-04'), (10, 'XYZ', 791.0, '2023-01-05')]\u001b[0m\u001b[32;1m\u001b[1;3mFinal Answer: [(6, 'XYZ', 810.0, '2023-01-01'), (7, 'XYZ', 803.0, '2023-01-02'), (8, 'XYZ', 798.0, '2023-01-03'), (9, 'XYZ', 795.0, '2023-01-04'), (10, 'XYZ', 791.0, '2023-01-05')]\u001b[0m\n",
            "\n",
            "\u001b[1m> Finished chain.\u001b[0m\n"
          ]
        },
        {
          "output_type": "execute_result",
          "data": {
            "text/plain": [
              "{'input': 'list of entries with price more than 300',\n",
              " 'output': \"[(6, 'XYZ', 810.0, '2023-01-01'), (7, 'XYZ', 803.0, '2023-01-02'), (8, 'XYZ', 798.0, '2023-01-03'), (9, 'XYZ', 795.0, '2023-01-04'), (10, 'XYZ', 791.0, '2023-01-05')]\"}"
            ]
          },
          "metadata": {},
          "execution_count": 184
        }
      ]
    },
    {
      "cell_type": "code",
      "source": [
        "agent_executor.invoke(\n",
        "    \"What is the multiplication of the price of ABC and XYZ stock tickers on Jan 1, 2023\"\n",
        ")"
      ],
      "metadata": {
        "colab": {
          "base_uri": "https://localhost:8080/"
        },
        "id": "__h_iU5opOis",
        "outputId": "e370f1b1-5a26-44e6-aab2-17c9f4e58479"
      },
      "execution_count": 186,
      "outputs": [
        {
          "output_type": "stream",
          "name": "stdout",
          "text": [
            "\n",
            "\n",
            "\u001b[1m> Entering new SQL Agent Executor chain...\u001b[0m\n",
            "\u001b[32;1m\u001b[1;3mAction: sql_db_list_tables\n",
            "Action Input: \u001b[0m\u001b[38;5;200m\u001b[1;3mstocks\u001b[0m\u001b[32;1m\u001b[1;3mAction: sql_db_schema\n",
            "Action Input: stocks\u001b[0m\u001b[33;1m\u001b[1;3m\n",
            "CREATE TABLE stocks (\n",
            "\tobs_id INTEGER NOT NULL, \n",
            "\tstock_ticker VARCHAR(4) NOT NULL, \n",
            "\tprice FLOAT NOT NULL, \n",
            "\tdate DATE NOT NULL, \n",
            "\tPRIMARY KEY (obs_id)\n",
            ")\n",
            "\n",
            "/*\n",
            "3 rows from stocks table:\n",
            "obs_id\tstock_ticker\tprice\tdate\n",
            "1\tABC\t200.0\t2023-01-01\n",
            "2\tABC\t208.0\t2023-01-02\n",
            "3\tABC\t232.0\t2023-01-03\n",
            "*/\u001b[0m\u001b[32;1m\u001b[1;3mAction: sql_db_query\n",
            "Action Input: SELECT price FROM stocks WHERE stock_ticker = 'ABC' AND date = '2023-01-01';\u001b[0m\u001b[36;1m\u001b[1;3m[(200.0,)]\u001b[0m\u001b[32;1m\u001b[1;3mAction: sql_db_query\n",
            "Action Input: SELECT price FROM stocks WHERE stock_ticker = 'XYZ' AND date = '2023-01-01';\u001b[0m\u001b[36;1m\u001b[1;3m[(810.0,)]\u001b[0m\u001b[32;1m\u001b[1;3mI now know the final answer\n",
            "Final Answer: 162000.0\u001b[0m\n",
            "\n",
            "\u001b[1m> Finished chain.\u001b[0m\n"
          ]
        },
        {
          "output_type": "execute_result",
          "data": {
            "text/plain": [
              "{'input': 'What is the multiplication of the price of ABC and XYZ stock tickers on Jan 1, 2023',\n",
              " 'output': '162000.0'}"
            ]
          },
          "metadata": {},
          "execution_count": 186
        }
      ]
    },
    {
      "cell_type": "markdown",
      "source": [
        "### Adding Memory"
      ],
      "metadata": {
        "id": "dHXVETGIfHme"
      }
    },
    {
      "cell_type": "code",
      "source": [
        "from langchain.memory import ConversationBufferMemory\n",
        "\n",
        "memory = ConversationBufferMemory(memory_key=\"chat_history\")"
      ],
      "metadata": {
        "id": "fw0xSKt7t_il"
      },
      "execution_count": 205,
      "outputs": []
    },
    {
      "cell_type": "code",
      "source": [
        "from langchain.utilities import SQLDatabase\n",
        "from langchain.agents import create_sql_agent\n",
        "from langchain.agents.agent_toolkits import SQLDatabaseToolkit\n",
        "from langchain.agents.agent_types import AgentType\n",
        "\n",
        "db = SQLDatabase(engine)\n",
        "agent_executor = create_sql_agent(\n",
        "    llm=llm,\n",
        "    verbose=True,\n",
        "    memory = memory,\n",
        "    toolkit=SQLDatabaseToolkit(db=db, llm=llm),\n",
        "    agent_type=AgentType.ZERO_SHOT_REACT_DESCRIPTION,\n",
        "    max_iterations=8,\n",
        ")"
      ],
      "metadata": {
        "id": "KesDnm8pDLNA"
      },
      "execution_count": 206,
      "outputs": []
    },
    {
      "cell_type": "code",
      "source": [
        "agent_executor.invoke(\n",
        "    \"What was the price of ticker ABC on Jan 1, 2023?\"\n",
        ")"
      ],
      "metadata": {
        "colab": {
          "base_uri": "https://localhost:8080/"
        },
        "id": "EBmcYsK5DqNh",
        "outputId": "11a15b60-229a-4190-f48d-6ee91849119c"
      },
      "execution_count": 208,
      "outputs": [
        {
          "output_type": "stream",
          "name": "stdout",
          "text": [
            "\n",
            "\n",
            "\u001b[1m> Entering new SQL Agent Executor chain...\u001b[0m\n",
            "\u001b[32;1m\u001b[1;3mI can query the stock_prices table for the price of ticker ABC on Jan 1, 2023.\n",
            "Action: sql_db_query\n",
            "Action Input: SELECT price FROM stock_prices WHERE ticker = 'ABC' AND date = '2023-01-01'\u001b[0m\u001b[36;1m\u001b[1;3mError: (sqlite3.OperationalError) no such table: stock_prices\n",
            "[SQL: SELECT price FROM stock_prices WHERE ticker = 'ABC' AND date = '2023-01-01']\n",
            "(Background on this error at: https://sqlalche.me/e/20/e3q8)\u001b[0m\u001b[32;1m\u001b[1;3mThe stock_prices table does not exist, so I should check the schema of the database to find the correct table name.\n",
            "Action: sql_db_list_tables\n",
            "Action Input: \u001b[0m\u001b[38;5;200m\u001b[1;3mstocks\u001b[0m\u001b[32;1m\u001b[1;3mThe correct table name is stocks.\n",
            "Action: sql_db_query\n",
            "Action Input: SELECT price FROM stocks WHERE ticker = 'ABC' AND date = '2023-01-01'\u001b[0m\u001b[36;1m\u001b[1;3mError: (sqlite3.OperationalError) no such column: ticker\n",
            "[SQL: SELECT price FROM stocks WHERE ticker = 'ABC' AND date = '2023-01-01']\n",
            "(Background on this error at: https://sqlalche.me/e/20/e3q8)\u001b[0m"
          ]
        },
        {
          "output_type": "stream",
          "name": "stderr",
          "text": [
            "WARNING:langchain_google_genai.chat_models:Retrying langchain_google_genai.chat_models._chat_with_retry.<locals>._chat_with_retry in 2.0 seconds as it raised ResourceExhausted: 429 Resource has been exhausted (e.g. check quota)..\n"
          ]
        },
        {
          "output_type": "stream",
          "name": "stdout",
          "text": [
            "\u001b[32;1m\u001b[1;3mThe column name is incorrect, so I should check the schema of the table to find the correct column name.\n",
            "Action: sql_db_schema\n",
            "Action Input: stocks\u001b[0m\u001b[33;1m\u001b[1;3m\n",
            "CREATE TABLE stocks (\n",
            "\tobs_id INTEGER NOT NULL, \n",
            "\tstock_ticker VARCHAR(4) NOT NULL, \n",
            "\tprice FLOAT NOT NULL, \n",
            "\tdate DATE NOT NULL, \n",
            "\tPRIMARY KEY (obs_id)\n",
            ")\n",
            "\n",
            "/*\n",
            "3 rows from stocks table:\n",
            "obs_id\tstock_ticker\tprice\tdate\n",
            "1\tABC\t200.0\t2023-01-01\n",
            "2\tABC\t208.0\t2023-01-02\n",
            "3\tABC\t232.0\t2023-01-03\n",
            "*/\u001b[0m"
          ]
        },
        {
          "output_type": "stream",
          "name": "stderr",
          "text": [
            "WARNING:langchain_google_genai.chat_models:Retrying langchain_google_genai.chat_models._chat_with_retry.<locals>._chat_with_retry in 2.0 seconds as it raised ResourceExhausted: 429 Resource has been exhausted (e.g. check quota)..\n"
          ]
        },
        {
          "output_type": "stream",
          "name": "stdout",
          "text": [
            "\u001b[32;1m\u001b[1;3mThe correct column name is stock_ticker.\n",
            "Action: sql_db_query\n",
            "Action Input: SELECT price FROM stocks WHERE stock_ticker = 'ABC' AND date = '2023-01-01'\u001b[0m\u001b[36;1m\u001b[1;3m[(200.0,)]\u001b[0m"
          ]
        },
        {
          "output_type": "stream",
          "name": "stderr",
          "text": [
            "WARNING:langchain_google_genai.chat_models:Retrying langchain_google_genai.chat_models._chat_with_retry.<locals>._chat_with_retry in 4.0 seconds as it raised ResourceExhausted: 429 Resource has been exhausted (e.g. check quota)..\n",
            "WARNING:langchain_google_genai.chat_models:Retrying langchain_google_genai.chat_models._chat_with_retry.<locals>._chat_with_retry in 8.0 seconds as it raised ResourceExhausted: 429 Resource has been exhausted (e.g. check quota)..\n"
          ]
        },
        {
          "output_type": "stream",
          "name": "stdout",
          "text": [
            "\u001b[32;1m\u001b[1;3mI now know the final answer\n",
            "Final Answer: 200.0\u001b[0m\n",
            "\n",
            "\u001b[1m> Finished chain.\u001b[0m\n"
          ]
        },
        {
          "output_type": "execute_result",
          "data": {
            "text/plain": [
              "{'input': 'What was the price of ticker ABC on Jan 1, 2023?',\n",
              " 'output': '200.0'}"
            ]
          },
          "metadata": {},
          "execution_count": 208
        }
      ]
    },
    {
      "cell_type": "code",
      "source": [
        "agent_executor.invoke(\n",
        "    \"What was XYZ stock price on that date?\"\n",
        ")"
      ],
      "metadata": {
        "colab": {
          "base_uri": "https://localhost:8080/"
        },
        "id": "3i1PiPqfDt1h",
        "outputId": "c13c9ee9-2421-45d1-bc32-e9f346c2a4f2"
      },
      "execution_count": 210,
      "outputs": [
        {
          "output_type": "stream",
          "name": "stdout",
          "text": [
            "\n",
            "\n",
            "\u001b[1m> Entering new SQL Agent Executor chain...\u001b[0m\n",
            "\u001b[32;1m\u001b[1;3mI need to know the correct table and column names to use.\n",
            "Action: sql_db_list_tables\n",
            "Action Input: \u001b[0m\u001b[38;5;200m\u001b[1;3mstocks\u001b[0m\u001b[32;1m\u001b[1;3mI should check the schema of the stocks table.\n",
            "Action: sql_db_schema\n",
            "Action Input: stocks\u001b[0m\u001b[33;1m\u001b[1;3m\n",
            "CREATE TABLE stocks (\n",
            "\tobs_id INTEGER NOT NULL, \n",
            "\tstock_ticker VARCHAR(4) NOT NULL, \n",
            "\tprice FLOAT NOT NULL, \n",
            "\tdate DATE NOT NULL, \n",
            "\tPRIMARY KEY (obs_id)\n",
            ")\n",
            "\n",
            "/*\n",
            "3 rows from stocks table:\n",
            "obs_id\tstock_ticker\tprice\tdate\n",
            "1\tABC\t200.0\t2023-01-01\n",
            "2\tABC\t208.0\t2023-01-02\n",
            "3\tABC\t232.0\t2023-01-03\n",
            "*/\u001b[0m\u001b[32;1m\u001b[1;3mI can now query the database for the stock price.\n",
            "Action: sql_db_query\n",
            "Action Input: SELECT price FROM stocks WHERE stock_ticker = 'XYZ' AND date = '2023-01-01';\u001b[0m\u001b[36;1m\u001b[1;3m[(810.0,)]\u001b[0m\u001b[32;1m\u001b[1;3mI now know the final answer\n",
            "Final Answer: 810.0\u001b[0m\n",
            "\n",
            "\u001b[1m> Finished chain.\u001b[0m\n"
          ]
        },
        {
          "output_type": "execute_result",
          "data": {
            "text/plain": [
              "{'input': 'What was XYZ stock price on that date?', 'output': '810.0'}"
            ]
          },
          "metadata": {},
          "execution_count": 210
        }
      ]
    }
  ]
}